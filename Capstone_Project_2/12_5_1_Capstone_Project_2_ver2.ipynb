{
 "cells": [
  {
   "cell_type": "markdown",
   "metadata": {},
   "source": [
    "# Notes\n",
    "Implemented earlystopping with val_loss \n",
    "\n",
    "From, https://stackoverflow.com/questions/43906048/keras-early-stopping\n",
    "It is likely that val_loss is happening on test sets specified in this notebook\n",
    "\"Monitor the validation loss (need to use cross validation or at least train/test sets) by setting the monitor argument to 'val_loss'.\""
   ]
  },
  {
   "cell_type": "code",
   "execution_count": 1,
   "metadata": {
    "scrolled": true
   },
   "outputs": [
    {
     "name": "stderr",
     "output_type": "stream",
     "text": [
      "Using TensorFlow backend.\n"
     ]
    }
   ],
   "source": [
    "# import the right libraries\n",
    "\n",
    "import keras\n",
    "from keras.models import Sequential\n",
    "from keras.layers import Dense\n",
    "from keras.utils import to_categorical\n",
    "\n",
    "from sklearn.metrics import confusion_matrix\n",
    "import pandas as pd\n",
    "import matplotlib.pyplot as plt\n",
    "\n",
    "import numpy as np"
   ]
  },
  {
   "cell_type": "code",
   "execution_count": 2,
   "metadata": {
    "scrolled": true
   },
   "outputs": [
    {
     "name": "stdout",
     "output_type": "stream",
     "text": [
      "[0, 1, 2, 3, 4, 5, 6, 7, 8, 9, 10, 11, 12, 13, 14, 15, 16, 17, 18, 19, 20, 21, 22, 23, 24, 25, 26, 27, 28, 29, 30, 31, 32, 33, 34, 35, 36, 37, 38, 39, 40, 41, 42, 43, 44, 45, 46, 47, 48, 49, 50, 51, 52, 53, 54, 55, 56, 57, 58, 59, 60, 61, 62, 63, 64, 65, 66, 67, 68, 69, 70, 71, 72, 73, 74, 75, 76, 77, 78, 79, 80, 81, 82, 83, 84, 85, 86, 87, 88, 89, 90, 91, 92, 93, 94, 95, 96, 97, 98, 99, 100, 101, 102, 103, 104, 105, 106, 107, 108, 109, 110, 111, 112, 113, 114, 115, 116, 117, 118, 119, 120, 121, 122, 123, 124, 125, 126, 127, 128, 129, 130, 131, 132, 133, 134, 135, 136, 137, 138, 139, 140, 141, 142, 143, 144, 145, 146, 147, 148, 149, 150, 151, 152, 153, 154, 155, 156, 157, 158, 159, 160, 161, 162, 163, 164, 165, 166, 167, 168, 169, 170, 171, 172, 173, 174, 175, 176, 177, 178, 179, 180, 181, 182, 183, 184, 185, 186]\n",
      "[0, 1, 2, 3, 4, 5, 6, 7, 8, 9, 10, 11, 12, 13, 14, 15, 16, 17, 18, 19, 20, 21, 22, 23, 24, 25, 26, 27, 28, 29, 30, 31, 32, 33, 34, 35, 36, 37, 38, 39, 40, 41, 42, 43, 44, 45, 46, 47, 48, 49, 50, 51, 52, 53, 54, 55, 56, 57, 58, 59, 60, 61, 62, 63, 64, 65, 66, 67, 68, 69, 70, 71, 72, 73, 74, 75, 76, 77, 78, 79, 80, 81, 82, 83, 84, 85, 86, 87, 88, 89, 90, 91, 92, 93, 94, 95, 96, 97, 98, 99, 100, 101, 102, 103, 104, 105, 106, 107, 108, 109, 110, 111, 112, 113, 114, 115, 116, 117, 118, 119, 120, 121, 122, 123, 124, 125, 126, 127, 128, 129, 130, 131, 132, 133, 134, 135, 136, 137, 138, 139, 140, 141, 142, 143, 144, 145, 146, 147, 148, 149, 150, 151, 152, 153, 154, 155, 156, 157, 158, 159, 160, 161, 162, 163, 164, 165, 166, 167, 168, 169, 170, 171, 172, 173, 174, 175, 176, 177, 178, 179, 180, 181, 182, 183, 184, 185, 186, 'arrythmia_type']\n"
     ]
    }
   ],
   "source": [
    "column_names = list(range(187))\n",
    "print(column_names)\n",
    "\n",
    "column_names.append('arrythmia_type')\n",
    "print(column_names)"
   ]
  },
  {
   "cell_type": "code",
   "execution_count": 3,
   "metadata": {},
   "outputs": [
    {
     "name": "stdout",
     "output_type": "stream",
     "text": [
      "C:\\Users\\iamga\\OneDrive\\Desktop\\Desktop_folder\\Data_Science\\Springboard\\Data\\heartbeat\n"
     ]
    }
   ],
   "source": [
    "data_path =r'C:\\Users\\iamga\\OneDrive\\Desktop\\Desktop_folder\\Data_Science\\Springboard\\Data\\heartbeat'\n",
    "\n",
    "print(data_path)"
   ]
  },
  {
   "cell_type": "code",
   "execution_count": 4,
   "metadata": {},
   "outputs": [
    {
     "name": "stdout",
     "output_type": "stream",
     "text": [
      "(87554, 188)\n",
      "(21892, 188)\n"
     ]
    },
    {
     "data": {
      "text/html": [
       "<div>\n",
       "<style scoped>\n",
       "    .dataframe tbody tr th:only-of-type {\n",
       "        vertical-align: middle;\n",
       "    }\n",
       "\n",
       "    .dataframe tbody tr th {\n",
       "        vertical-align: top;\n",
       "    }\n",
       "\n",
       "    .dataframe thead th {\n",
       "        text-align: right;\n",
       "    }\n",
       "</style>\n",
       "<table border=\"1\" class=\"dataframe\">\n",
       "  <thead>\n",
       "    <tr style=\"text-align: right;\">\n",
       "      <th></th>\n",
       "      <th>0</th>\n",
       "      <th>1</th>\n",
       "      <th>2</th>\n",
       "      <th>3</th>\n",
       "      <th>4</th>\n",
       "      <th>5</th>\n",
       "      <th>6</th>\n",
       "      <th>7</th>\n",
       "      <th>8</th>\n",
       "      <th>9</th>\n",
       "      <th>...</th>\n",
       "      <th>178</th>\n",
       "      <th>179</th>\n",
       "      <th>180</th>\n",
       "      <th>181</th>\n",
       "      <th>182</th>\n",
       "      <th>183</th>\n",
       "      <th>184</th>\n",
       "      <th>185</th>\n",
       "      <th>186</th>\n",
       "      <th>arrythmia_type</th>\n",
       "    </tr>\n",
       "  </thead>\n",
       "  <tbody>\n",
       "    <tr>\n",
       "      <th>0</th>\n",
       "      <td>1.000000</td>\n",
       "      <td>0.758264</td>\n",
       "      <td>0.111570</td>\n",
       "      <td>0.000000</td>\n",
       "      <td>0.080579</td>\n",
       "      <td>0.078512</td>\n",
       "      <td>0.066116</td>\n",
       "      <td>0.049587</td>\n",
       "      <td>0.047521</td>\n",
       "      <td>0.035124</td>\n",
       "      <td>...</td>\n",
       "      <td>0.0</td>\n",
       "      <td>0.0</td>\n",
       "      <td>0.0</td>\n",
       "      <td>0.0</td>\n",
       "      <td>0.0</td>\n",
       "      <td>0.0</td>\n",
       "      <td>0.0</td>\n",
       "      <td>0.0</td>\n",
       "      <td>0.0</td>\n",
       "      <td>0.0</td>\n",
       "    </tr>\n",
       "    <tr>\n",
       "      <th>1</th>\n",
       "      <td>0.908425</td>\n",
       "      <td>0.783883</td>\n",
       "      <td>0.531136</td>\n",
       "      <td>0.362637</td>\n",
       "      <td>0.366300</td>\n",
       "      <td>0.344322</td>\n",
       "      <td>0.333333</td>\n",
       "      <td>0.307692</td>\n",
       "      <td>0.296703</td>\n",
       "      <td>0.300366</td>\n",
       "      <td>...</td>\n",
       "      <td>0.0</td>\n",
       "      <td>0.0</td>\n",
       "      <td>0.0</td>\n",
       "      <td>0.0</td>\n",
       "      <td>0.0</td>\n",
       "      <td>0.0</td>\n",
       "      <td>0.0</td>\n",
       "      <td>0.0</td>\n",
       "      <td>0.0</td>\n",
       "      <td>0.0</td>\n",
       "    </tr>\n",
       "    <tr>\n",
       "      <th>2</th>\n",
       "      <td>0.730088</td>\n",
       "      <td>0.212389</td>\n",
       "      <td>0.000000</td>\n",
       "      <td>0.119469</td>\n",
       "      <td>0.101770</td>\n",
       "      <td>0.101770</td>\n",
       "      <td>0.110619</td>\n",
       "      <td>0.123894</td>\n",
       "      <td>0.115044</td>\n",
       "      <td>0.132743</td>\n",
       "      <td>...</td>\n",
       "      <td>0.0</td>\n",
       "      <td>0.0</td>\n",
       "      <td>0.0</td>\n",
       "      <td>0.0</td>\n",
       "      <td>0.0</td>\n",
       "      <td>0.0</td>\n",
       "      <td>0.0</td>\n",
       "      <td>0.0</td>\n",
       "      <td>0.0</td>\n",
       "      <td>0.0</td>\n",
       "    </tr>\n",
       "    <tr>\n",
       "      <th>3</th>\n",
       "      <td>1.000000</td>\n",
       "      <td>0.910417</td>\n",
       "      <td>0.681250</td>\n",
       "      <td>0.472917</td>\n",
       "      <td>0.229167</td>\n",
       "      <td>0.068750</td>\n",
       "      <td>0.000000</td>\n",
       "      <td>0.004167</td>\n",
       "      <td>0.014583</td>\n",
       "      <td>0.054167</td>\n",
       "      <td>...</td>\n",
       "      <td>0.0</td>\n",
       "      <td>0.0</td>\n",
       "      <td>0.0</td>\n",
       "      <td>0.0</td>\n",
       "      <td>0.0</td>\n",
       "      <td>0.0</td>\n",
       "      <td>0.0</td>\n",
       "      <td>0.0</td>\n",
       "      <td>0.0</td>\n",
       "      <td>0.0</td>\n",
       "    </tr>\n",
       "    <tr>\n",
       "      <th>4</th>\n",
       "      <td>0.570470</td>\n",
       "      <td>0.399329</td>\n",
       "      <td>0.238255</td>\n",
       "      <td>0.147651</td>\n",
       "      <td>0.000000</td>\n",
       "      <td>0.003356</td>\n",
       "      <td>0.040268</td>\n",
       "      <td>0.080537</td>\n",
       "      <td>0.070470</td>\n",
       "      <td>0.090604</td>\n",
       "      <td>...</td>\n",
       "      <td>0.0</td>\n",
       "      <td>0.0</td>\n",
       "      <td>0.0</td>\n",
       "      <td>0.0</td>\n",
       "      <td>0.0</td>\n",
       "      <td>0.0</td>\n",
       "      <td>0.0</td>\n",
       "      <td>0.0</td>\n",
       "      <td>0.0</td>\n",
       "      <td>0.0</td>\n",
       "    </tr>\n",
       "  </tbody>\n",
       "</table>\n",
       "<p>5 rows × 188 columns</p>\n",
       "</div>"
      ],
      "text/plain": [
       "          0         1         2         3         4         5         6  \\\n",
       "0  1.000000  0.758264  0.111570  0.000000  0.080579  0.078512  0.066116   \n",
       "1  0.908425  0.783883  0.531136  0.362637  0.366300  0.344322  0.333333   \n",
       "2  0.730088  0.212389  0.000000  0.119469  0.101770  0.101770  0.110619   \n",
       "3  1.000000  0.910417  0.681250  0.472917  0.229167  0.068750  0.000000   \n",
       "4  0.570470  0.399329  0.238255  0.147651  0.000000  0.003356  0.040268   \n",
       "\n",
       "          7         8         9       ...        178  179  180  181  182  183  \\\n",
       "0  0.049587  0.047521  0.035124       ...        0.0  0.0  0.0  0.0  0.0  0.0   \n",
       "1  0.307692  0.296703  0.300366       ...        0.0  0.0  0.0  0.0  0.0  0.0   \n",
       "2  0.123894  0.115044  0.132743       ...        0.0  0.0  0.0  0.0  0.0  0.0   \n",
       "3  0.004167  0.014583  0.054167       ...        0.0  0.0  0.0  0.0  0.0  0.0   \n",
       "4  0.080537  0.070470  0.090604       ...        0.0  0.0  0.0  0.0  0.0  0.0   \n",
       "\n",
       "   184  185  186  arrythmia_type  \n",
       "0  0.0  0.0  0.0             0.0  \n",
       "1  0.0  0.0  0.0             0.0  \n",
       "2  0.0  0.0  0.0             0.0  \n",
       "3  0.0  0.0  0.0             0.0  \n",
       "4  0.0  0.0  0.0             0.0  \n",
       "\n",
       "[5 rows x 188 columns]"
      ]
     },
     "execution_count": 4,
     "metadata": {},
     "output_type": "execute_result"
    }
   ],
   "source": [
    "# load the training data\n",
    "\n",
    "    \n",
    "df_train = pd.read_csv(data_path+'\\mitbih_train.csv', header=None, names=column_names)\n",
    "\n",
    "print(df_train.shape)\n",
    "df_train.head()\n",
    "\n",
    "# load the testing data\n",
    "\n",
    "df_test = pd.read_csv(data_path+'\\mitbih_test.csv', header=None, names=column_names)\n",
    "\n",
    "print(df_test.shape)\n",
    "df_test.head()"
   ]
  },
  {
   "cell_type": "code",
   "execution_count": 5,
   "metadata": {},
   "outputs": [
    {
     "data": {
      "text/plain": [
       "(21892, 5)"
      ]
     },
     "execution_count": 5,
     "metadata": {},
     "output_type": "execute_result"
    }
   ],
   "source": [
    "predictors_train = df_train.drop(labels=['arrythmia_type'], axis=1)\n",
    "\n",
    "predictors_train.shape\n",
    "\n",
    "target_train = to_categorical(df_train.arrythmia_type)\n",
    "target_train.shape\n",
    "\n",
    "predictors_test = df_test.drop(labels=['arrythmia_type'], axis=1)\n",
    "\n",
    "predictors_test.shape\n",
    "\n",
    "target_test = to_categorical(df_test.arrythmia_type)\n",
    "target_test.shape"
   ]
  },
  {
   "cell_type": "code",
   "execution_count": 6,
   "metadata": {},
   "outputs": [
    {
     "data": {
      "text/plain": [
       "187"
      ]
     },
     "execution_count": 6,
     "metadata": {},
     "output_type": "execute_result"
    }
   ],
   "source": [
    "(number_training_datapoints, number_features) = predictors_train.shape\n",
    "number_features"
   ]
  },
  {
   "cell_type": "markdown",
   "metadata": {},
   "source": [
    "### Trying F1 score from \n",
    "https://stackoverflow.com/questions/45411902/how-to-use-f1-score-with-keras-model\n"
   ]
  },
  {
   "cell_type": "code",
   "execution_count": 7,
   "metadata": {},
   "outputs": [],
   "source": [
    "import keras.backend as K\n",
    "\n",
    "def f1_score(y_pred, y_true):\n",
    "\n",
    "    # Count positive samples.\n",
    "    c1 = K.sum(K.round(K.clip(y_true * y_pred, 0, 1)))\n",
    "    c2 = K.sum(K.round(K.clip(y_pred, 0, 1)))\n",
    "    c3 = K.sum(K.round(K.clip(y_true, 0, 1)))\n",
    "\n",
    "    # If there are no true samples, fix the F1 score at 0.\n",
    "    if c3 == 0:\n",
    "        return 0\n",
    "\n",
    "    # How many selected items are relevant?\n",
    "    precision = c1 / c2\n",
    "\n",
    "    # How many relevant items are selected?\n",
    "    recall = c1 / c3\n",
    "\n",
    "    # Calculate f1_score\n",
    "    f1_score = 2 * (precision * recall) / (precision + recall)\n",
    "    return f1_score "
   ]
  },
  {
   "cell_type": "code",
   "execution_count": 8,
   "metadata": {},
   "outputs": [],
   "source": [
    "\n",
    "# create a 1 layer network\n",
    "\n",
    "n_cols = 187\n",
    "\n",
    "model = Sequential()\n",
    "model.add(Dense(10, activation='relu', input_shape=[n_cols,]))\n",
    "model.add(Dense(5, activation='softmax'))\n",
    "\n",
    "# compile the model\n",
    "model.compile(optimizer='adam', loss='categorical_crossentropy', metrics=['accuracy', f1_score])"
   ]
  },
  {
   "cell_type": "code",
   "execution_count": 9,
   "metadata": {},
   "outputs": [
    {
     "name": "stdout",
     "output_type": "stream",
     "text": [
      "Epoch 1/1\n",
      "87554/87554 [==============================] - 4s 42us/step - loss: 0.3803 - acc: 0.8963 - f1_score: nan\n"
     ]
    },
    {
     "data": {
      "text/plain": [
       "<keras.callbacks.History at 0x1f79a265780>"
      ]
     },
     "execution_count": 9,
     "metadata": {},
     "output_type": "execute_result"
    }
   ],
   "source": [
    "# fit the model with training data\n",
    "model.fit(predictors_train, target_train)"
   ]
  },
  {
   "cell_type": "code",
   "execution_count": 10,
   "metadata": {},
   "outputs": [
    {
     "name": "stdout",
     "output_type": "stream",
     "text": [
      "21892/21892 [==============================] - 1s 29us/step\n"
     ]
    },
    {
     "data": {
      "text/plain": [
       "[0.2831733916890745, 0.9179152201717522, nan]"
      ]
     },
     "execution_count": 10,
     "metadata": {},
     "output_type": "execute_result"
    }
   ],
   "source": [
    "# make prediction on test data\n",
    "\n",
    "model.evaluate(predictors_test, target_test)"
   ]
  },
  {
   "cell_type": "code",
   "execution_count": null,
   "metadata": {},
   "outputs": [],
   "source": []
  },
  {
   "cell_type": "code",
   "execution_count": null,
   "metadata": {},
   "outputs": [],
   "source": []
  },
  {
   "cell_type": "code",
   "execution_count": 11,
   "metadata": {},
   "outputs": [
    {
     "data": {
      "text/html": [
       "<div>\n",
       "<style scoped>\n",
       "    .dataframe tbody tr th:only-of-type {\n",
       "        vertical-align: middle;\n",
       "    }\n",
       "\n",
       "    .dataframe tbody tr th {\n",
       "        vertical-align: top;\n",
       "    }\n",
       "\n",
       "    .dataframe thead th {\n",
       "        text-align: right;\n",
       "    }\n",
       "</style>\n",
       "<table border=\"1\" class=\"dataframe\">\n",
       "  <thead>\n",
       "    <tr style=\"text-align: right;\">\n",
       "      <th></th>\n",
       "      <th>0</th>\n",
       "      <th>1</th>\n",
       "      <th>2</th>\n",
       "      <th>3</th>\n",
       "      <th>4</th>\n",
       "      <th>5</th>\n",
       "      <th>6</th>\n",
       "      <th>7</th>\n",
       "      <th>8</th>\n",
       "      <th>9</th>\n",
       "      <th>...</th>\n",
       "      <th>178</th>\n",
       "      <th>179</th>\n",
       "      <th>180</th>\n",
       "      <th>181</th>\n",
       "      <th>182</th>\n",
       "      <th>183</th>\n",
       "      <th>184</th>\n",
       "      <th>185</th>\n",
       "      <th>186</th>\n",
       "      <th>arrythmia_type</th>\n",
       "    </tr>\n",
       "  </thead>\n",
       "  <tbody>\n",
       "    <tr>\n",
       "      <th>count</th>\n",
       "      <td>87554.000000</td>\n",
       "      <td>87554.000000</td>\n",
       "      <td>87554.000000</td>\n",
       "      <td>87554.000000</td>\n",
       "      <td>87554.000000</td>\n",
       "      <td>87554.000000</td>\n",
       "      <td>87554.000000</td>\n",
       "      <td>87554.000000</td>\n",
       "      <td>87554.000000</td>\n",
       "      <td>87554.000000</td>\n",
       "      <td>...</td>\n",
       "      <td>87554.000000</td>\n",
       "      <td>87554.000000</td>\n",
       "      <td>87554.000000</td>\n",
       "      <td>87554.000000</td>\n",
       "      <td>87554.000000</td>\n",
       "      <td>87554.000000</td>\n",
       "      <td>87554.000000</td>\n",
       "      <td>87554.000000</td>\n",
       "      <td>87554.000000</td>\n",
       "      <td>87554.000000</td>\n",
       "    </tr>\n",
       "    <tr>\n",
       "      <th>mean</th>\n",
       "      <td>0.890360</td>\n",
       "      <td>0.758160</td>\n",
       "      <td>0.423972</td>\n",
       "      <td>0.219104</td>\n",
       "      <td>0.201127</td>\n",
       "      <td>0.210399</td>\n",
       "      <td>0.205808</td>\n",
       "      <td>0.201773</td>\n",
       "      <td>0.198691</td>\n",
       "      <td>0.196757</td>\n",
       "      <td>...</td>\n",
       "      <td>0.005025</td>\n",
       "      <td>0.004628</td>\n",
       "      <td>0.004291</td>\n",
       "      <td>0.003945</td>\n",
       "      <td>0.003681</td>\n",
       "      <td>0.003471</td>\n",
       "      <td>0.003221</td>\n",
       "      <td>0.002945</td>\n",
       "      <td>0.002807</td>\n",
       "      <td>0.473376</td>\n",
       "    </tr>\n",
       "    <tr>\n",
       "      <th>std</th>\n",
       "      <td>0.240909</td>\n",
       "      <td>0.221813</td>\n",
       "      <td>0.227305</td>\n",
       "      <td>0.206878</td>\n",
       "      <td>0.177058</td>\n",
       "      <td>0.171909</td>\n",
       "      <td>0.178481</td>\n",
       "      <td>0.177240</td>\n",
       "      <td>0.171778</td>\n",
       "      <td>0.168357</td>\n",
       "      <td>...</td>\n",
       "      <td>0.044154</td>\n",
       "      <td>0.042089</td>\n",
       "      <td>0.040525</td>\n",
       "      <td>0.038651</td>\n",
       "      <td>0.037193</td>\n",
       "      <td>0.036255</td>\n",
       "      <td>0.034789</td>\n",
       "      <td>0.032865</td>\n",
       "      <td>0.031924</td>\n",
       "      <td>1.143184</td>\n",
       "    </tr>\n",
       "    <tr>\n",
       "      <th>min</th>\n",
       "      <td>0.000000</td>\n",
       "      <td>0.000000</td>\n",
       "      <td>0.000000</td>\n",
       "      <td>0.000000</td>\n",
       "      <td>0.000000</td>\n",
       "      <td>0.000000</td>\n",
       "      <td>0.000000</td>\n",
       "      <td>0.000000</td>\n",
       "      <td>0.000000</td>\n",
       "      <td>0.000000</td>\n",
       "      <td>...</td>\n",
       "      <td>0.000000</td>\n",
       "      <td>0.000000</td>\n",
       "      <td>0.000000</td>\n",
       "      <td>0.000000</td>\n",
       "      <td>0.000000</td>\n",
       "      <td>0.000000</td>\n",
       "      <td>0.000000</td>\n",
       "      <td>0.000000</td>\n",
       "      <td>0.000000</td>\n",
       "      <td>0.000000</td>\n",
       "    </tr>\n",
       "    <tr>\n",
       "      <th>25%</th>\n",
       "      <td>0.921922</td>\n",
       "      <td>0.682486</td>\n",
       "      <td>0.250969</td>\n",
       "      <td>0.048458</td>\n",
       "      <td>0.082329</td>\n",
       "      <td>0.088416</td>\n",
       "      <td>0.073333</td>\n",
       "      <td>0.066116</td>\n",
       "      <td>0.065000</td>\n",
       "      <td>0.068639</td>\n",
       "      <td>...</td>\n",
       "      <td>0.000000</td>\n",
       "      <td>0.000000</td>\n",
       "      <td>0.000000</td>\n",
       "      <td>0.000000</td>\n",
       "      <td>0.000000</td>\n",
       "      <td>0.000000</td>\n",
       "      <td>0.000000</td>\n",
       "      <td>0.000000</td>\n",
       "      <td>0.000000</td>\n",
       "      <td>0.000000</td>\n",
       "    </tr>\n",
       "    <tr>\n",
       "      <th>50%</th>\n",
       "      <td>0.991342</td>\n",
       "      <td>0.826013</td>\n",
       "      <td>0.429472</td>\n",
       "      <td>0.166000</td>\n",
       "      <td>0.147878</td>\n",
       "      <td>0.158798</td>\n",
       "      <td>0.145324</td>\n",
       "      <td>0.144424</td>\n",
       "      <td>0.150000</td>\n",
       "      <td>0.148734</td>\n",
       "      <td>...</td>\n",
       "      <td>0.000000</td>\n",
       "      <td>0.000000</td>\n",
       "      <td>0.000000</td>\n",
       "      <td>0.000000</td>\n",
       "      <td>0.000000</td>\n",
       "      <td>0.000000</td>\n",
       "      <td>0.000000</td>\n",
       "      <td>0.000000</td>\n",
       "      <td>0.000000</td>\n",
       "      <td>0.000000</td>\n",
       "    </tr>\n",
       "    <tr>\n",
       "      <th>75%</th>\n",
       "      <td>1.000000</td>\n",
       "      <td>0.910506</td>\n",
       "      <td>0.578767</td>\n",
       "      <td>0.341727</td>\n",
       "      <td>0.258993</td>\n",
       "      <td>0.287628</td>\n",
       "      <td>0.298237</td>\n",
       "      <td>0.295391</td>\n",
       "      <td>0.290832</td>\n",
       "      <td>0.283636</td>\n",
       "      <td>...</td>\n",
       "      <td>0.000000</td>\n",
       "      <td>0.000000</td>\n",
       "      <td>0.000000</td>\n",
       "      <td>0.000000</td>\n",
       "      <td>0.000000</td>\n",
       "      <td>0.000000</td>\n",
       "      <td>0.000000</td>\n",
       "      <td>0.000000</td>\n",
       "      <td>0.000000</td>\n",
       "      <td>0.000000</td>\n",
       "    </tr>\n",
       "    <tr>\n",
       "      <th>max</th>\n",
       "      <td>1.000000</td>\n",
       "      <td>1.000000</td>\n",
       "      <td>1.000000</td>\n",
       "      <td>1.000000</td>\n",
       "      <td>1.000000</td>\n",
       "      <td>1.000000</td>\n",
       "      <td>1.000000</td>\n",
       "      <td>1.000000</td>\n",
       "      <td>1.000000</td>\n",
       "      <td>1.000000</td>\n",
       "      <td>...</td>\n",
       "      <td>1.000000</td>\n",
       "      <td>1.000000</td>\n",
       "      <td>1.000000</td>\n",
       "      <td>1.000000</td>\n",
       "      <td>1.000000</td>\n",
       "      <td>1.000000</td>\n",
       "      <td>1.000000</td>\n",
       "      <td>1.000000</td>\n",
       "      <td>1.000000</td>\n",
       "      <td>4.000000</td>\n",
       "    </tr>\n",
       "  </tbody>\n",
       "</table>\n",
       "<p>8 rows × 188 columns</p>\n",
       "</div>"
      ],
      "text/plain": [
       "                  0             1             2             3             4  \\\n",
       "count  87554.000000  87554.000000  87554.000000  87554.000000  87554.000000   \n",
       "mean       0.890360      0.758160      0.423972      0.219104      0.201127   \n",
       "std        0.240909      0.221813      0.227305      0.206878      0.177058   \n",
       "min        0.000000      0.000000      0.000000      0.000000      0.000000   \n",
       "25%        0.921922      0.682486      0.250969      0.048458      0.082329   \n",
       "50%        0.991342      0.826013      0.429472      0.166000      0.147878   \n",
       "75%        1.000000      0.910506      0.578767      0.341727      0.258993   \n",
       "max        1.000000      1.000000      1.000000      1.000000      1.000000   \n",
       "\n",
       "                  5             6             7             8             9  \\\n",
       "count  87554.000000  87554.000000  87554.000000  87554.000000  87554.000000   \n",
       "mean       0.210399      0.205808      0.201773      0.198691      0.196757   \n",
       "std        0.171909      0.178481      0.177240      0.171778      0.168357   \n",
       "min        0.000000      0.000000      0.000000      0.000000      0.000000   \n",
       "25%        0.088416      0.073333      0.066116      0.065000      0.068639   \n",
       "50%        0.158798      0.145324      0.144424      0.150000      0.148734   \n",
       "75%        0.287628      0.298237      0.295391      0.290832      0.283636   \n",
       "max        1.000000      1.000000      1.000000      1.000000      1.000000   \n",
       "\n",
       "            ...                 178           179           180           181  \\\n",
       "count       ...        87554.000000  87554.000000  87554.000000  87554.000000   \n",
       "mean        ...            0.005025      0.004628      0.004291      0.003945   \n",
       "std         ...            0.044154      0.042089      0.040525      0.038651   \n",
       "min         ...            0.000000      0.000000      0.000000      0.000000   \n",
       "25%         ...            0.000000      0.000000      0.000000      0.000000   \n",
       "50%         ...            0.000000      0.000000      0.000000      0.000000   \n",
       "75%         ...            0.000000      0.000000      0.000000      0.000000   \n",
       "max         ...            1.000000      1.000000      1.000000      1.000000   \n",
       "\n",
       "                182           183           184           185           186  \\\n",
       "count  87554.000000  87554.000000  87554.000000  87554.000000  87554.000000   \n",
       "mean       0.003681      0.003471      0.003221      0.002945      0.002807   \n",
       "std        0.037193      0.036255      0.034789      0.032865      0.031924   \n",
       "min        0.000000      0.000000      0.000000      0.000000      0.000000   \n",
       "25%        0.000000      0.000000      0.000000      0.000000      0.000000   \n",
       "50%        0.000000      0.000000      0.000000      0.000000      0.000000   \n",
       "75%        0.000000      0.000000      0.000000      0.000000      0.000000   \n",
       "max        1.000000      1.000000      1.000000      1.000000      1.000000   \n",
       "\n",
       "       arrythmia_type  \n",
       "count    87554.000000  \n",
       "mean         0.473376  \n",
       "std          1.143184  \n",
       "min          0.000000  \n",
       "25%          0.000000  \n",
       "50%          0.000000  \n",
       "75%          0.000000  \n",
       "max          4.000000  \n",
       "\n",
       "[8 rows x 188 columns]"
      ]
     },
     "execution_count": 11,
     "metadata": {},
     "output_type": "execute_result"
    }
   ],
   "source": [
    "df_train.describe()"
   ]
  },
  {
   "cell_type": "code",
   "execution_count": 12,
   "metadata": {},
   "outputs": [
    {
     "data": {
      "text/plain": [
       "array([72471.,  2223.,  5788.,   641.,  6431.], dtype=float32)"
      ]
     },
     "execution_count": 12,
     "metadata": {},
     "output_type": "execute_result"
    }
   ],
   "source": [
    "sum(target_train)"
   ]
  },
  {
   "cell_type": "code",
   "execution_count": 13,
   "metadata": {},
   "outputs": [
    {
     "data": {
      "text/plain": [
       "(187, 10)"
      ]
     },
     "execution_count": 13,
     "metadata": {},
     "output_type": "execute_result"
    }
   ],
   "source": [
    "predictors_test_transpose = predictors_test.T\n",
    "\n",
    "predictors_test_transpose.iloc[:,:10].shape\n",
    "\n"
   ]
  },
  {
   "cell_type": "code",
   "execution_count": 14,
   "metadata": {},
   "outputs": [
    {
     "data": {
      "image/png": "[encoded data removed]",
      "text/plain": [
       "<Figure size 432x288 with 1 Axes>"
      ]
     },
     "metadata": {
      "needs_background": "light"
     },
     "output_type": "display_data"
    }
   ],
   "source": [
    "predictors_test_transpose.iloc[:,2:4].plot()\n",
    "plt.show()"
   ]
  },
  {
   "cell_type": "code",
   "execution_count": null,
   "metadata": {},
   "outputs": [],
   "source": []
  },
  {
   "cell_type": "code",
   "execution_count": null,
   "metadata": {},
   "outputs": [],
   "source": []
  },
  {
   "cell_type": "code",
   "execution_count": null,
   "metadata": {},
   "outputs": [],
   "source": []
  },
  {
   "cell_type": "code",
   "execution_count": null,
   "metadata": {},
   "outputs": [],
   "source": []
  },
  {
   "cell_type": "code",
   "execution_count": null,
   "metadata": {},
   "outputs": [],
   "source": []
  },
  {
   "cell_type": "markdown",
   "metadata": {},
   "source": [
    "# Implement deep learning archtechture"
   ]
  },
  {
   "cell_type": "code",
   "execution_count": 15,
   "metadata": {},
   "outputs": [],
   "source": [
    "from keras.layers import Convolution1D\n",
    "from keras.layers import MaxPooling1D\n",
    "from keras.layers import Flatten\n",
    "from keras.callbacks import EarlyStopping"
   ]
  },
  {
   "cell_type": "code",
   "execution_count": 16,
   "metadata": {},
   "outputs": [],
   "source": [
    "# build model\n",
    "\n",
    "model_CNN = Sequential()\n",
    "\n",
    "model_CNN.add(Convolution1D(filters=32, kernel_size=5, activation='linear', input_shape=( number_features, 1)))\n",
    "\n",
    "\n",
    "# 5 residual blocks\n",
    "model_CNN.add(Convolution1D(filters=32, kernel_size=5, activation='relu'))\n",
    "model_CNN.add(Convolution1D(filters=32, kernel_size=5, activation='relu'))\n",
    "model_CNN.add(MaxPooling1D(pool_size=(5), strides=(2)))\n",
    "\n",
    "\n",
    "# outermost layers\n",
    "model_CNN.add(Dense(32, activation='relu'))\n",
    "model_CNN.add(Flatten())\n",
    "model_CNN.add(Dense(5, activation='softmax'))\n",
    "\n",
    "\n",
    "# compile the model\n",
    "model_CNN.compile(optimizer='adam', loss='categorical_crossentropy', metrics=['accuracy', f1_score])"
   ]
  },
  {
   "cell_type": "code",
   "execution_count": 17,
   "metadata": {
    "scrolled": true
   },
   "outputs": [
    {
     "name": "stdout",
     "output_type": "stream",
     "text": [
      "_________________________________________________________________\n",
      "Layer (type)                 Output Shape              Param #   \n",
      "=================================================================\n",
      "conv1d_1 (Conv1D)            (None, 183, 32)           192       \n",
      "_________________________________________________________________\n",
      "conv1d_2 (Conv1D)            (None, 179, 32)           5152      \n",
      "_________________________________________________________________\n",
      "conv1d_3 (Conv1D)            (None, 175, 32)           5152      \n",
      "_________________________________________________________________\n",
      "max_pooling1d_1 (MaxPooling1 (None, 86, 32)            0         \n",
      "_________________________________________________________________\n",
      "dense_3 (Dense)              (None, 86, 32)            1056      \n",
      "_________________________________________________________________\n",
      "flatten_1 (Flatten)          (None, 2752)              0         \n",
      "_________________________________________________________________\n",
      "dense_4 (Dense)              (None, 5)                 13765     \n",
      "=================================================================\n",
      "Total params: 25,317\n",
      "Trainable params: 25,317\n",
      "Non-trainable params: 0\n",
      "_________________________________________________________________\n"
     ]
    }
   ],
   "source": [
    "model_CNN.summary()"
   ]
  },
  {
   "cell_type": "markdown",
   "metadata": {},
   "source": [
    "### Reshaping the input to the CNN so that the convolution1D can work\n",
    "https://stackoverflow.com/questions/43396572/dimension-of-shape-in-conv1d/43399308#43399308\n",
    "\n",
    "https://stackoverflow.com/questions/38656566/input-dimensions-to-a-one-dimensional-convolutional-network-in-keras"
   ]
  },
  {
   "cell_type": "code",
   "execution_count": 18,
   "metadata": {
    "scrolled": true
   },
   "outputs": [
    {
     "name": "stdout",
     "output_type": "stream",
     "text": [
      "(21892, 187)\n",
      "(21892, 187, 1)\n",
      "(87554, 187, 1)\n"
     ]
    }
   ],
   "source": [
    "print(predictors_test.shape)\n",
    "\n",
    "predictors_test_CNN = np.expand_dims(predictors_test, axis=2)\n",
    "\n",
    "print(predictors_test_CNN.shape)\n",
    "\n",
    "predictors_train_CNN = np.expand_dims(predictors_train, axis=2)\n",
    "print(predictors_train_CNN.shape)\n"
   ]
  },
  {
   "cell_type": "code",
   "execution_count": 19,
   "metadata": {},
   "outputs": [
    {
     "data": {
      "text/plain": [
       "(87554, 5)"
      ]
     },
     "execution_count": 19,
     "metadata": {},
     "output_type": "execute_result"
    }
   ],
   "source": [
    "target_train.shape"
   ]
  },
  {
   "cell_type": "code",
   "execution_count": 22,
   "metadata": {
    "scrolled": false
   },
   "outputs": [
    {
     "name": "stdout",
     "output_type": "stream",
     "text": [
      "Train on 87554 samples, validate on 21892 samples\n",
      "Epoch 1/100\n",
      "87554/87554 [==============================] - 70s 796us/step - loss: 0.2000 - acc: 0.9454 - f1_score: nan - val_loss: 0.1272 - val_acc: 0.9660 - val_f1_score: 0.9659\n",
      "Epoch 2/100\n",
      "87554/87554 [==============================] - 73s 831us/step - loss: 0.1046 - acc: 0.9702 - f1_score: 0.9706 - val_loss: 0.1139 - val_acc: 0.9699 - val_f1_score: 0.9702\n",
      "Epoch 3/100\n",
      "87554/87554 [==============================] - 75s 851us/step - loss: 0.0830 - acc: 0.9764 - f1_score: 0.9764 - val_loss: 0.0948 - val_acc: 0.9757 - val_f1_score: 0.9757\n",
      "Epoch 4/100\n",
      "87554/87554 [==============================] - 76s 866us/step - loss: 0.0713 - acc: 0.9791 - f1_score: 0.9791 - val_loss: 0.0884 - val_acc: 0.9753 - val_f1_score: 0.9755\n",
      "Epoch 5/100\n",
      "87554/87554 [==============================] - 74s 847us/step - loss: 0.0648 - acc: 0.9807 - f1_score: 0.9808 - val_loss: 0.0817 - val_acc: 0.9794 - val_f1_score: 0.9795\n",
      "Epoch 6/100\n",
      "87554/87554 [==============================] - 73s 835us/step - loss: 0.0582 - acc: 0.9830 - f1_score: 0.9829 - val_loss: 0.0849 - val_acc: 0.9780 - val_f1_score: 0.9780\n",
      "Epoch 7/100\n",
      "87554/87554 [==============================] - 74s 848us/step - loss: 0.0537 - acc: 0.9837 - f1_score: 0.9837 - val_loss: 0.0778 - val_acc: 0.9787 - val_f1_score: 0.9788\n",
      "Epoch 8/100\n",
      "87554/87554 [==============================] - 74s 844us/step - loss: 0.0502 - acc: 0.9845 - f1_score: 0.9846 - val_loss: 0.0851 - val_acc: 0.9781 - val_f1_score: 0.9779\n",
      "Epoch 9/100\n",
      "87554/87554 [==============================] - 70s 794us/step - loss: 0.0470 - acc: 0.9854 - f1_score: 0.9855 - val_loss: 0.0829 - val_acc: 0.9792 - val_f1_score: 0.9792\n",
      "Epoch 10/100\n",
      "87554/87554 [==============================] - 72s 826us/step - loss: 0.0444 - acc: 0.9858 - f1_score: 0.9859 - val_loss: 0.0774 - val_acc: 0.9805 - val_f1_score: 0.9807\n",
      "Epoch 11/100\n",
      "87554/87554 [==============================] - 69s 784us/step - loss: 0.0412 - acc: 0.9872 - f1_score: 0.9873 - val_loss: 0.0774 - val_acc: 0.9807 - val_f1_score: 0.9807\n",
      "Epoch 12/100\n",
      "87554/87554 [==============================] - 69s 786us/step - loss: 0.0396 - acc: 0.9874 - f1_score: 0.9874 - val_loss: 0.0900 - val_acc: 0.9801 - val_f1_score: 0.9803\n",
      "Epoch 13/100\n",
      "87554/87554 [==============================] - 69s 783us/step - loss: 0.0371 - acc: 0.9882 - f1_score: 0.9882 - val_loss: 0.0814 - val_acc: 0.9819 - val_f1_score: 0.9818\n",
      "Epoch 14/100\n",
      "87554/87554 [==============================] - 68s 778us/step - loss: 0.0359 - acc: 0.9883 - f1_score: 0.9883 - val_loss: 0.0811 - val_acc: 0.9818 - val_f1_score: 0.9818\n"
     ]
    }
   ],
   "source": [
    "# fit the model with training data\n",
    "CNN_history = model_CNN.fit(predictors_train_CNN, target_train, epochs=100, validation_data=(predictors_test_CNN, target_test), callbacks=[EarlyStopping(monitor='val_loss', patience=3, verbose=0)])"
   ]
  },
  {
   "cell_type": "code",
   "execution_count": 23,
   "metadata": {},
   "outputs": [
    {
     "data": {
      "text/plain": [
       "2"
      ]
     },
     "execution_count": 23,
     "metadata": {},
     "output_type": "execute_result"
    }
   ],
   "source": [
    "target_train[80000]\n",
    "\n",
    "np.argmax(target_train[80000])"
   ]
  },
  {
   "cell_type": "code",
   "execution_count": 24,
   "metadata": {},
   "outputs": [
    {
     "data": {
      "image/png": "[encoded data removed]",
      "text/plain": [
       "<Figure size 432x288 with 1 Axes>"
      ]
     },
     "metadata": {
      "needs_background": "light"
     },
     "output_type": "display_data"
    }
   ],
   "source": [
    "CNN_val_acc = CNN_history.history['val_acc']\n",
    "\n",
    "plt.plot(CNN_val_acc)\n",
    "plt.ylim([0.9 , 1])\n",
    "plt.show()"
   ]
  },
  {
   "cell_type": "code",
   "execution_count": 25,
   "metadata": {},
   "outputs": [],
   "source": [
    "# get confusion matrix\n",
    "\n",
    "predicted_test = model_CNN.predict(predictors_test_CNN)\n",
    "predicted_test = np.argmax(predicted_test, axis = 1)\n",
    "#(target_test)\n",
    "\n",
    "#confusion_matrix([0, 1,2 , 3, 0], [0, 2, 3, 1, 0])"
   ]
  },
  {
   "cell_type": "code",
   "execution_count": 26,
   "metadata": {},
   "outputs": [
    {
     "name": "stdout",
     "output_type": "stream",
     "text": [
      "[[18028   133    71    35    20]\n",
      " [   50   416     3     0     2]\n",
      " [   28     7  1351    12     2]\n",
      " [    2     0    16   115     0]\n",
      " [   10     0     7     0  1584]]\n"
     ]
    }
   ],
   "source": [
    "confusion_matrix_CNN = confusion_matrix(predicted_test, df_test.arrythmia_type)\n",
    "print(confusion_matrix_CNN)\n",
    "#predicted_test[20000]"
   ]
  },
  {
   "cell_type": "code",
   "execution_count": 27,
   "metadata": {},
   "outputs": [
    {
     "name": "stdout",
     "output_type": "stream",
     "text": [
      "[[0.986 0.007 0.004 0.002 0.001]\n",
      " [0.106 0.883 0.006 0.    0.004]\n",
      " [0.02  0.005 0.965 0.009 0.001]\n",
      " [0.015 0.    0.12  0.865 0.   ]\n",
      " [0.006 0.    0.004 0.    0.989]]\n"
     ]
    },
    {
     "data": {
      "text/plain": [
       "0.9376214800347942"
      ]
     },
     "execution_count": 27,
     "metadata": {},
     "output_type": "execute_result"
    }
   ],
   "source": [
    "#type(confusion_matrix_)\n",
    "normalized_confusion_matrix_CNN = confusion_matrix_CNN/confusion_matrix_CNN.sum(axis = 1, keepdims = True)\n",
    "\n",
    "print(np.around(normalized_confusion_matrix_CNN, 3))\n",
    "\n",
    "np.mean(np.diag(normalized_confusion_matrix_CNN))"
   ]
  },
  {
   "cell_type": "code",
   "execution_count": null,
   "metadata": {},
   "outputs": [],
   "source": [
    "# Confusion matrix comparison to paper: Number of sample points in each category, also normalization\n",
    "# Skip connection: "
   ]
  },
  {
   "cell_type": "markdown",
   "metadata": {},
   "source": [
    "# From 12.3.1 in springboard\n",
    "\n",
    "# Import EarlyStopping\n",
    "from keras.callbacks import EarlyStopping\n",
    "\n",
    "# Save the number of columns in predictors: n_cols\n",
    "n_cols = predictors.shape[1]\n",
    "input_shape = (n_cols,)\n",
    "\n",
    "# Specify the model\n",
    "model = Sequential()\n",
    "model.add(Dense(100, activation='relu', input_shape = input_shape))\n",
    "model.add(Dense(100, activation='relu'))\n",
    "model.add(Dense(2, activation='softmax'))\n",
    "\n",
    "# Compile the model\n",
    "model.compile(optimizer='adam', loss='categorical_crossentropy', metrics=['accuracy'])\n",
    "\n",
    "# Define early_stopping_monitor\n",
    "early_stopping_monitor = EarlyStopping(patience=2)\n",
    "\n",
    "# Fit the model\n",
    "model.fit(predictors, target, validation_split=0.3, callbacks=[early_stopping_monitor], epochs=30)\n"
   ]
  }
 ],
 "metadata": {
  "kernelspec": {
   "display_name": "Python 3",
   "language": "python",
   "name": "python3"
  },
  "language_info": {
   "codemirror_mode": {
    "name": "ipython",
    "version": 3
   },
   "file_extension": ".py",
   "mimetype": "text/x-python",
   "name": "python",
   "nbconvert_exporter": "python",
   "pygments_lexer": "ipython3",
   "version": "3.6.6"
  }
 },
 "nbformat": 4,
 "nbformat_minor": 2
}
